{
 "cells": [
  {
   "cell_type": "code",
   "execution_count": 142,
   "metadata": {},
   "outputs": [],
   "source": [
    "from SimulationBaseClass import BaseSimulation\n",
    "import numpy as np\n",
    "from utils import to_sph\n",
    "\n",
    "class TwoSpinSimulation(BaseSimulation):\n",
    "    def __init__(self):\n",
    "        super().__init__() # Run init of superclass, IMPORTANT!\n",
    "\n",
    "        # Start by configuring the simulation\n",
    "        self.options['simulation_name'] = 'TwoSpinsSimulation'\n",
    "        self.options['input_file'] = 'tests/molecules/two_spins.pdb'\n",
    "        self.options['data_file'] = 'data/two_spins_data_g.h5' # Saves the data file\n",
    "        self.options['transform_file'] = 'data/two_spins_transformed_data.h5' # Saves the transforms file\n",
    "        self.options['spin'] = 7/2\n",
    "        self.options['dt'] = 1e-18\n",
    "        self.options['J'] = 173 * self.constants['k_b']\n",
    "        self.options['l'] = 0 # No dampening\n",
    "        self.options['T'] = 0 # Zero temperature\n",
    "        self.options['B'] = np.array([0., 0., 1.]) # 1 tesla in z direction\n",
    "        self.options['debug'] = True"
   ]
  },
  {
   "cell_type": "code",
   "execution_count": 135,
   "metadata": {},
   "outputs": [
    {
     "name": "stdout",
     "output_type": "stream",
     "text": [
      "Loaded crystall with shape cubic and 2 atoms\n"
     ]
    },
    {
     "data": {
      "text/plain": [
       "array([ 0.37793681, -0.65430721, -0.65501591])"
      ]
     },
     "execution_count": 135,
     "metadata": {},
     "output_type": "execute_result"
    }
   ],
   "source": [
    "d_angle = 30 * np.pi / 180\n",
    "\n",
    "r, theta1, phi1 = np.round(to_sph([np.sin(d_angle), np.cos(d_angle), np.cos(d_angle)]), 3)\n",
    "r, theta2, phi2 = np.round(to_sph([np.sin(d_angle), -np.cos(d_angle), -np.cos(d_angle)]), 3)\n",
    "\n",
    "#r, theta1, phi1 = to_sph([np.cos(d_angle), np.sin(d_angle), 0])\n",
    "#r, theta2, phi2 = to_sph([-np.cos(d_angle), np.sin(d_angle), 0])\n",
    "\n",
    "sim = TwoSpinSimulation()\n",
    "sim.load_particles()\n",
    "\n",
    "sim.particles.atoms[0].set_position(theta1, phi1)\n",
    "sim.particles.atoms[1].set_position(theta2, phi2)"
   ]
  },
  {
   "cell_type": "code",
   "execution_count": 136,
   "metadata": {},
   "outputs": [],
   "source": [
    "sim.run_anneal(1.6e2)\n"
   ]
  },
  {
   "cell_type": "code",
   "execution_count": 137,
   "metadata": {},
   "outputs": [],
   "source": [
    "sim.run_simulation(2**24)"
   ]
  },
  {
   "cell_type": "code",
   "execution_count": 138,
   "metadata": {},
   "outputs": [],
   "source": [
    "sim.plot_positions_xy('spins_xy.png')"
   ]
  },
  {
   "cell_type": "code",
   "execution_count": 139,
   "metadata": {},
   "outputs": [],
   "source": [
    "sim.plot_spins_xyz('spins_xyz.png')"
   ]
  },
  {
   "cell_type": "code",
   "execution_count": 140,
   "metadata": {},
   "outputs": [
    {
     "data": {
      "text/plain": [
       "/transforms/[0 0 1] (Table(32768,), shuffle, zlib(1)) 'Cross section for q = [0 0 1]'\n",
       "  description := {\n",
       "  \"energy\": Float32Col(shape=(), dflt=0.0, pos=0),\n",
       "  \"frequency\": Float32Col(shape=(), dflt=0.0, pos=1),\n",
       "  \"I_xx\": ComplexCol(itemsize=32, shape=(), dflt=0j, pos=2),\n",
       "  \"I_yy\": ComplexCol(itemsize=32, shape=(), dflt=0j, pos=3),\n",
       "  \"I_zz\": ComplexCol(itemsize=32, shape=(), dflt=0j, pos=4)}\n",
       "  byteorder := 'little'\n",
       "  chunkshape := (630,)"
      ]
     },
     "execution_count": 140,
     "metadata": {},
     "output_type": "execute_result"
    }
   ],
   "source": [
    "sim.run_transformations(np.array([0, 0, 1]))"
   ]
  },
  {
   "cell_type": "code",
   "execution_count": 141,
   "metadata": {},
   "outputs": [],
   "source": [
    "sim.plot_energies('spins_energy.png')"
   ]
  },
  {
   "cell_type": "code",
   "execution_count": null,
   "metadata": {},
   "outputs": [],
   "source": []
  }
 ],
 "metadata": {
  "kernelspec": {
   "display_name": "Python 3",
   "language": "python",
   "name": "python3"
  },
  "language_info": {
   "codemirror_mode": {
    "name": "ipython",
    "version": 3
   },
   "file_extension": ".py",
   "mimetype": "text/x-python",
   "name": "python",
   "nbconvert_exporter": "python",
   "pygments_lexer": "ipython3",
   "version": "3.7.1"
  }
 },
 "nbformat": 4,
 "nbformat_minor": 2
}
