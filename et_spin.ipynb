{
 "cells": [
  {
   "cell_type": "code",
   "execution_count": 17,
   "metadata": {},
   "outputs": [],
   "source": [
    "from SimulationBaseClass import BaseSimulation\n",
    "import numpy as np\n",
    "\n",
    "\n",
    "class GdIonSimulation(BaseSimulation):\n",
    "    def __init__(self):\n",
    "        super().__init__() # Run init of superclass, IMPORTANT!\n",
    "\n",
    "        # Start by configuring the simulation\n",
    "        self.options['simulation_name'] = 'GdIonSimulation'\n",
    "        self.options['input_file'] = 'examples/gd_ion_example/gd_ion.pdb'\n",
    "        self.options['data_file'] = 'examples/gd_ion_example/data.h5' # Saves the data file\n",
    "        self.options['transform_file'] = 'examples/gd_ion_example/transformed_data.h5' # Saves the transforms file\n",
    "        self.options['spin'] = 7/2\n",
    "        self.options['dt'] = 1e-14\n",
    "        self.options['J'] = 0 # We only have one atom\n",
    "        self.options['l'] = 100 # No dampening\n",
    "        self.options['T'] = 200 # Zero temperature\n",
    "        self.options['B'] = np.array([0, 0, 1]) # 1 tesla in z direction\n",
    "        self.options['debug'] = True"
   ]
  },
  {
   "cell_type": "code",
   "execution_count": 19,
   "metadata": {},
   "outputs": [
    {
     "name": "stdout",
     "output_type": "stream",
     "text": [
      "Loaded crystall with shape cubic and 1 atoms\n",
      "expected energy: 0.11588340366002399 meV\n"
     ]
    }
   ],
   "source": [
    "# Prep the simulation\n",
    "sim = GdIonSimulation()\n",
    "sim.load_particles()\n",
    "sim.run_anneal(1.6e3)\n",
    "\n",
    "# Run the simulation\n",
    "sim.run_simulation(2**14)\n",
    "\n",
    "# Run the transformations on a range of scattering vectors\n",
    "for q_size in np.arange(0, 0.1, 0.1):\n",
    "    q = np.array([0, 1, 0])\n",
    "    sim.run_transformations(q)\n",
    "\n",
    "# Plot results\n",
    "# Spins\n",
    "sim.plot_spins_xy('examples/gd_ion_example/spin_xy.png')\n",
    "sim.plot_spins_xyz('examples/gd_ion_example/spin_xyz.png')\n",
    "\n",
    "# Energies\n",
    "sim.plot_energies('examples/gd_ion_example/energies_{}.png', [0, 0.2])\n",
    "\n",
    "# Frequencies\n",
    "sim.plot_frequencies('examples/gd_ion_example/frequencies_{}.png', [0, 1e11])\n",
    "\n",
    "# Scattering cross section\n",
    "# sim.plot_scattering_cross_section('examples/gd_ion_example/cross_section_{}.png')\n",
    "\n",
    "# Close the simulation\n",
    "sim.close()\n",
    "\n",
    "print('expected energy: {} meV'.format(- sim.constants['g'] * sim.constants['mu_b_meV']))"
   ]
  },
  {
   "cell_type": "code",
   "execution_count": null,
   "metadata": {},
   "outputs": [],
   "source": []
  },
  {
   "cell_type": "code",
   "execution_count": null,
   "metadata": {},
   "outputs": [],
   "source": []
  },
  {
   "cell_type": "code",
   "execution_count": null,
   "metadata": {},
   "outputs": [],
   "source": []
  },
  {
   "cell_type": "code",
   "execution_count": null,
   "metadata": {},
   "outputs": [],
   "source": []
  }
 ],
 "metadata": {
  "kernelspec": {
   "display_name": "Python 3",
   "language": "python",
   "name": "python3"
  },
  "language_info": {
   "codemirror_mode": {
    "name": "ipython",
    "version": 3
   },
   "file_extension": ".py",
   "mimetype": "text/x-python",
   "name": "python",
   "nbconvert_exporter": "python",
   "pygments_lexer": "ipython3",
   "version": "3.7.1"
  }
 },
 "nbformat": 4,
 "nbformat_minor": 2
}
