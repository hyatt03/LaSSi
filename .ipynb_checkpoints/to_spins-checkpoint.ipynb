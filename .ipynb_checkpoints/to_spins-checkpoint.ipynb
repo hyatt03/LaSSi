{
 "cells": [
  {
   "cell_type": "code",
   "execution_count": 48,
   "metadata": {},
   "outputs": [],
   "source": [
    "from SimulationBaseClass import BaseSimulation\n",
    "import numpy as np\n",
    "from utils import to_sph\n",
    "\n",
    "class TwoSpinSimulation(BaseSimulation):\n",
    "    def __init__(self):\n",
    "        super().__init__() # Run init of superclass, IMPORTANT!\n",
    "\n",
    "        # Start by configuring the simulation\n",
    "        self.options['simulation_name'] = 'TwoSpinsSimulation'\n",
    "        self.options['input_file'] = 'tests/molecules/two_spins.pdb'\n",
    "        self.options['data_file'] = 'data/two_spins_data_c.h5' # Saves the data file\n",
    "        self.options['transform_file'] = 'data/two_spins_transformed_data.h5' # Saves the transforms file\n",
    "        self.options['spin'] = 7/2\n",
    "        self.options['dt'] = 1e-18\n",
    "        self.options['J'] = 173 * self.constants['k_b']\n",
    "        self.options['l'] = 0 # No dampening\n",
    "        self.options['T'] = 0 # Zero temperature\n",
    "        self.options['B'] = np.array([0, 0, 1.]) # 1 tesla in z direction\n",
    "        self.options['debug'] = True"
   ]
  },
  {
   "cell_type": "code",
   "execution_count": 49,
   "metadata": {},
   "outputs": [
    {
     "name": "stdout",
     "output_type": "stream",
     "text": [
      "Loaded crystall with shape cubic and 2 atoms\n"
     ]
    },
    {
     "data": {
      "text/plain": [
       "array([-8.66025404e-01,  5.00000000e-01,  6.12323400e-17])"
      ]
     },
     "execution_count": 49,
     "metadata": {},
     "output_type": "execute_result"
    }
   ],
   "source": [
    "d_angle = 30 * np.pi / 180\n",
    "\n",
    "r, theta1, phi1 = to_sph([np.cos(d_angle), np.sin(d_angle), 0])\n",
    "r, theta2, phi2 = to_sph([-np.cos(d_angle), np.sin(d_angle), 0])\n",
    "\n",
    "sim = TwoSpinSimulation()\n",
    "sim.load_particles()\n",
    "\n",
    "sim.particles.atoms[0].set_position(theta1, phi1)\n",
    "sim.particles.atoms[1].set_position(theta2, phi2)"
   ]
  },
  {
   "cell_type": "code",
   "execution_count": 50,
   "metadata": {},
   "outputs": [],
   "source": [
    "sim.run_anneal(1.6e2)"
   ]
  },
  {
   "cell_type": "code",
   "execution_count": 51,
   "metadata": {},
   "outputs": [
    {
     "name": "stdout",
     "output_type": "stream",
     "text": [
      "Simulating 50%\n",
      "Simulating 51%\n",
      "Simulating 52%\n",
      "Simulating 53%\n",
      "Simulating 54%\n",
      "Simulating 55%\n",
      "Simulating 56%\n",
      "Simulating 57%\n",
      "Simulating 58%\n",
      "Simulating 59%\n",
      "Simulating 60%\n",
      "Simulating 61%\n",
      "Simulating 62%\n",
      "Simulating 63%\n",
      "Simulating 64%\n",
      "Simulating 65%\n",
      "Simulating 66%\n",
      "Simulating 67%\n",
      "Simulating 68%\n",
      "Simulating 69%\n",
      "Simulating 70%\n",
      "Simulating 71%\n",
      "Simulating 72%\n",
      "Simulating 73%\n",
      "Simulating 74%\n",
      "Simulating 75%\n",
      "Simulating 76%\n",
      "Simulating 77%\n",
      "Simulating 78%\n",
      "Simulating 79%\n",
      "Simulating 80%\n",
      "Simulating 81%\n",
      "Simulating 82%\n",
      "Simulating 83%\n",
      "Simulating 84%\n",
      "Simulating 85%\n",
      "Simulating 86%\n",
      "Simulating 87%\n",
      "Simulating 88%\n",
      "Simulating 89%\n",
      "Simulating 90%\n",
      "Simulating 91%\n",
      "Simulating 92%\n",
      "Simulating 93%\n",
      "Simulating 94%\n",
      "Simulating 95%\n",
      "Simulating 96%\n",
      "Simulating 97%\n",
      "Simulating 98%\n",
      "Simulating 99%\n",
      "Simulating 100%\n"
     ]
    }
   ],
   "source": [
    "sim.run_simulation(2**24)"
   ]
  },
  {
   "cell_type": "code",
   "execution_count": 52,
   "metadata": {},
   "outputs": [],
   "source": [
    "sim.plot_positions_xy('spins_xy.png')"
   ]
  },
  {
   "cell_type": "code",
   "execution_count": 53,
   "metadata": {},
   "outputs": [],
   "source": [
    "sim.plot_spins_xyz('spins_xyz.png')"
   ]
  },
  {
   "cell_type": "code",
   "execution_count": 54,
   "metadata": {},
   "outputs": [
    {
     "data": {
      "text/plain": [
       "/transforms/[0 0 1] (Table(32768,), shuffle, zlib(1)) 'Cross section for q = [0 0 1]'\n",
       "  description := {\n",
       "  \"energy\": Float32Col(shape=(), dflt=0.0, pos=0),\n",
       "  \"frequency\": Float32Col(shape=(), dflt=0.0, pos=1),\n",
       "  \"I_xx\": ComplexCol(itemsize=32, shape=(), dflt=0j, pos=2),\n",
       "  \"I_yy\": ComplexCol(itemsize=32, shape=(), dflt=0j, pos=3),\n",
       "  \"I_zz\": ComplexCol(itemsize=32, shape=(), dflt=0j, pos=4)}\n",
       "  byteorder := 'little'\n",
       "  chunkshape := (630,)"
      ]
     },
     "execution_count": 54,
     "metadata": {},
     "output_type": "execute_result"
    }
   ],
   "source": [
    "sim.run_transformations(np.array([0, 0, 1]))"
   ]
  },
  {
   "cell_type": "code",
   "execution_count": 55,
   "metadata": {},
   "outputs": [],
   "source": [
    "sim.plot_energies('spins_energy.png')"
   ]
  },
  {
   "cell_type": "code",
   "execution_count": null,
   "metadata": {},
   "outputs": [],
   "source": []
  }
 ],
 "metadata": {
  "kernelspec": {
   "display_name": "Python 3",
   "language": "python",
   "name": "python3"
  },
  "language_info": {
   "codemirror_mode": {
    "name": "ipython",
    "version": 3
   },
   "file_extension": ".py",
   "mimetype": "text/x-python",
   "name": "python",
   "nbconvert_exporter": "python",
   "pygments_lexer": "ipython3",
   "version": "3.7.1"
  }
 },
 "nbformat": 4,
 "nbformat_minor": 2
}
